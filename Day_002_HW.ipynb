{
 "cells": [
  {
   "cell_type": "markdown",
   "metadata": {},
   "source": [
    "## [作業目標]\n",
    "了解機器學習適合應用的領域與範疇。"
   ]
  },
  {
   "cell_type": "markdown",
   "metadata": {},
   "source": [
    "## [作業重點]\n",
    "透過瞭解機器學習的運作方式，找出非常適用機器學習應用的領域及其原因"
   ]
  },
  {
   "cell_type": "markdown",
   "metadata": {},
   "source": [
    "## 作業\n",
    "請找出一個你認為機器學習可以發光發熱的領域並闡述原因? "
   ]
  },
  {
   "cell_type": "code",
   "execution_count": null,
   "metadata": {},
   "outputs": [],
   "source": [
    "我覺得機器學習會在醫學上 X-RAY 或磁力共振等領域上, 會有很突破性發揮。X-RAY 在名醫院就有大量的影像圖片，\n",
    "讓機器學習看懂圖片上有癌症和無癌症的分別。這大大省掉醫生的宝貴時間。而磁力共振上，本來就己經可以轉化成\n",
    "structued 數據，機器學習肯定能發揮所長。\n",
    "\n",
    "而機器學習上，在肯定是Cyberssecurity的未來。E.g. 分別SPAM/SCAM EMAIL, 這種每人每天都都收到大量 \n",
    "SPAM和SCAM數據讓機器學習分別出來。從前，保安公司要用很多RULE或POLICY去防止HACKER，現在只要有足夠數據，\n",
    "例如 LOG來學懂正常行為，就能快速找到異常行為。"
   ]
  }
 ],
 "metadata": {
  "kernelspec": {
   "display_name": "Python 3",
   "language": "python",
   "name": "python3"
  },
  "language_info": {
   "codemirror_mode": {
    "name": "ipython",
    "version": 3
   },
   "file_extension": ".py",
   "mimetype": "text/x-python",
   "name": "python",
   "nbconvert_exporter": "python",
   "pygments_lexer": "ipython3",
   "version": "3.7.3"
  }
 },
 "nbformat": 4,
 "nbformat_minor": 2
}
